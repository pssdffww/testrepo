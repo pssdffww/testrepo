{
 "cells": [
  {
   "cell_type": "markdown",
   "id": "00f867c4-c500-48ac-8ca1-ba8410c173d0",
   "metadata": {},
   "source": [
    "# Data Science Tools and Ecosystem"
   ]
  },
  {
   "cell_type": "markdown",
   "id": "f95aeb18-112e-407c-8441-4fba7eb8d349",
   "metadata": {},
   "source": [
    "## In this notebook, Data Science Tools and Ecosystem are summarized."
   ]
  },
  {
   "cell_type": "markdown",
   "id": "214c1b77-6656-4f7a-812a-c9384dbabb85",
   "metadata": {},
   "source": [
    "**Objectives**\n",
    "- Languages in Data Science\n",
    "- Data Science Libraries\n",
    "- Data Science Tools"
   ]
  },
  {
   "cell_type": "markdown",
   "id": "af365286-e89d-42a1-8515-72f2828e1772",
   "metadata": {},
   "source": [
    "## Some of the popular languages data scientists use are:\n",
    "1. Python\n",
    "2. R\n",
    "3. SQL"
   ]
  },
  {
   "cell_type": "markdown",
   "id": "215db298-33d6-47d4-9f1b-4ff6ef100389",
   "metadata": {},
   "source": [
    "## Some of the commonly used libraries used by data scientists include:\n",
    "1. Pandas\n",
    "2. NumPy\n",
    "3. Matplotlib"
   ]
  },
  {
   "cell_type": "markdown",
   "id": "b6bc0d3c-8582-4799-80cc-b44c85d6b1ce",
   "metadata": {},
   "source": [
    "| Data Science Tools | \n",
    "| -------------| \n",
    "| Jupyter Notebook | \n",
    "| Apache Hadoop | \n",
    "| RStudio | "
   ]
  },
  {
   "cell_type": "markdown",
   "id": "dc660415-e0e9-4aea-86f0-d3b3c34b32a0",
   "metadata": {},
   "source": [
    "### Below are a few examples of evaluating arithmetic expressions in Python\n"
   ]
  },
  {
   "cell_type": "code",
   "execution_count": 74,
   "id": "0cd32ac7-59d2-4098-85bf-6d8a81362804",
   "metadata": {},
   "outputs": [
    {
     "name": "stdout",
     "output_type": "stream",
     "text": [
      "17\n"
     ]
    }
   ],
   "source": [
    "# This is a simple arithmetic expression to multiply then add integers \n",
    "## (3*4)+5\n",
    "print((3 * 4) + 5)"
   ]
  },
  {
   "cell_type": "code",
   "execution_count": 80,
   "id": "0d5adc93-8dcc-4442-84c1-6fd59dae7ffb",
   "metadata": {},
   "outputs": [
    {
     "name": "stdout",
     "output_type": "stream",
     "text": [
      "3.3333333333333335\n"
     ]
    }
   ],
   "source": [
    "# This will convert 200 minutes into hours by dividing by 60\n",
    "print(200/60) "
   ]
  },
  {
   "cell_type": "markdown",
   "id": "85ab103b-e451-4d80-83a6-b57e8b5a5270",
   "metadata": {},
   "source": [
    "## Author\n",
    "Deborah Wallace Graham"
   ]
  },
  {
   "cell_type": "code",
   "execution_count": null,
   "id": "d39295ee-84e8-4ded-a846-cb76ff5060a0",
   "metadata": {},
   "outputs": [],
   "source": []
  },
  {
   "cell_type": "code",
   "execution_count": null,
   "id": "c51a0b6c-81a6-4840-85fe-6ec2704e169f",
   "metadata": {},
   "outputs": [],
   "source": []
  }
 ],
 "metadata": {
  "kernelspec": {
   "display_name": "Python [conda env:base] *",
   "language": "python",
   "name": "conda-base-py"
  },
  "language_info": {
   "codemirror_mode": {
    "name": "ipython",
    "version": 3
   },
   "file_extension": ".py",
   "mimetype": "text/x-python",
   "name": "python",
   "nbconvert_exporter": "python",
   "pygments_lexer": "ipython3",
   "version": "3.12.7"
  }
 },
 "nbformat": 4,
 "nbformat_minor": 5
}
